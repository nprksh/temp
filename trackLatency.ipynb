{
 "cells": [
  {
   "cell_type": "markdown",
   "metadata": {},
   "source": [
    "## Track latency of single GOES product.\n",
    "\n",
    "When executed, the code will wait till the next GOES image has been acquired, and is made available in AWS bucket.\n",
    "\n",
    "NOTE: All time stamps in UTC."
   ]
  },
  {
   "cell_type": "code",
   "execution_count": 3,
   "metadata": {},
   "outputs": [],
   "source": [
    "import os\n",
    "import time\n",
    "import datetime\n",
    "\n",
    "import pandas\n",
    "\n",
    "import helper"
   ]
  },
  {
   "cell_type": "code",
   "execution_count": 4,
   "metadata": {},
   "outputs": [],
   "source": [
    "check_ever_n_seconds = 1\n",
    "\n",
    "DOWNLOAD_DIR = \"./test_latency_download/\"\n",
    "\n",
    "radProduct = 'ABI-L1b-RadC' ## L1 products CONUS\n",
    "\n",
    "## Level 2 data product\n",
    "dataProductCode = [ 'ABI-L2-MCMIPC', ## Level 2 Cloud and Moisture Imagery CONUS\n",
    "                    'ABI-L2-ACMC',   ## Level 2 Clear Sky Mask CONUS\n",
    "                    'ABI-L2-FDCC'    ## Level 2 Fire (Hot Spot Characterization) CONUS\n",
    "                ]"
   ]
  },
  {
   "cell_type": "code",
   "execution_count": 5,
   "metadata": {},
   "outputs": [],
   "source": [
    "## var init\n",
    "counter = 0\n",
    "dict_product_avaliable_time = {}"
   ]
  },
  {
   "cell_type": "markdown",
   "metadata": {},
   "source": [
    "I suggest to run the sections below in quick sucession. Or, run all cells at once."
   ]
  },
  {
   "cell_type": "code",
   "execution_count": 6,
   "metadata": {},
   "outputs": [
    {
     "name": "stdout",
     "output_type": "stream",
     "text": [
      "UTC Start Time  --> 2022-07-28 03:46:05.337280+00:00\n",
      "UTC End Time    --> 2022-07-28 03:56:05.337280+00:00\n"
     ]
    }
   ],
   "source": [
    "queryTime = datetime.datetime.now(datetime.timezone.utc)\n",
    "\n",
    "\n",
    "## Get a Time Range to look for past/old imagery already available --> \n",
    "## Here we look back 30 minutes\n",
    "past_time, _ = helper.getTimeRange(queryTime, bufferMinutes = [30, 0])\n",
    "\n",
    "\n",
    "\n",
    "## Also, we would next look forward in time () till we get an image\n",
    "## This step is a hack to extend functions for historic images to query future image\n",
    "## start_time --> would be current time, or query time\n",
    "## end_time   --> is a time 10 minutes in future\n",
    "start_time, end_time = helper.getTimeRange(queryTime, bufferMinutes = [0, 10])\n",
    "\n",
    "\n",
    "print(\"UTC Start Time  -->\", start_time)\n",
    "print(\"UTC End Time    -->\", end_time)\n",
    "\n"
   ]
  },
  {
   "cell_type": "code",
   "execution_count": 7,
   "metadata": {},
   "outputs": [
    {
     "name": "stdout",
     "output_type": "stream",
     "text": [
      "ABI-L2-MCMIPC:\n",
      "<DatetimeArray>\n",
      "['2022-07-28 03:16:17.200000+00:00', '2022-07-28 03:21:17.200000+00:00',\n",
      " '2022-07-28 03:26:17.200000+00:00', '2022-07-28 03:31:17.200000+00:00',\n",
      " '2022-07-28 03:36:17.200000+00:00', '2022-07-28 03:41:17.200000+00:00']\n",
      "Length: 6, dtype: datetime64[ns, UTC]\n",
      "-------------------\n",
      "ABI-L2-ACMC:\n",
      "<DatetimeArray>\n",
      "['2022-07-28 03:16:17.200000+00:00', '2022-07-28 03:21:17.200000+00:00',\n",
      " '2022-07-28 03:26:17.200000+00:00', '2022-07-28 03:31:17.200000+00:00',\n",
      " '2022-07-28 03:36:17.200000+00:00', '2022-07-28 03:41:17.200000+00:00']\n",
      "Length: 6, dtype: datetime64[ns, UTC]\n",
      "-------------------\n",
      "ABI-L2-FDCC:\n",
      "<DatetimeArray>\n",
      "['2022-07-28 03:16:17.200000+00:00', '2022-07-28 03:21:17.200000+00:00',\n",
      " '2022-07-28 03:26:17.200000+00:00', '2022-07-28 03:31:17.200000+00:00',\n",
      " '2022-07-28 03:36:17.200000+00:00', '2022-07-28 03:41:17.200000+00:00']\n",
      "Length: 6, dtype: datetime64[ns, UTC]\n",
      "-------------------\n"
     ]
    }
   ],
   "source": [
    "## Here we are not downloading the old images -- just querying the available imagery in AWS.\n",
    "for p in dataProductCode:\n",
    "    df_old = helper.getProductList(past_time, start_time, product = p, satellite = 16)\n",
    "\n",
    "    print(\"{}:\".format(p))\n",
    "    print(df_old['start'].unique())\n",
    "    print('-------------------')\n",
    "\n",
    "    df_old.to_csv(\"{}_old_data_availiblity.csv\".format(p))"
   ]
  },
  {
   "cell_type": "markdown",
   "metadata": {},
   "source": [
    "### Check for Level 1 products that have been accquired running the notebook\n",
    "--> If the product is not available, wait till all 16 bands are available\n"
   ]
  },
  {
   "cell_type": "code",
   "execution_count": 8,
   "metadata": {},
   "outputs": [
    {
     "name": "stdout",
     "output_type": "stream",
     "text": [
      "Waiting for product....  --> 2022-07-28 03:49:16.248204+00:00\n",
      "Frame Start:  03:46:17.200000 +/- 0.0\n",
      "Frame End  :  03:48:54.900000 +/- 0.467618\n",
      "\n",
      "Level 1 Created           --> 2022-07-28 03:49:00.200000+00:00 --> 5 seconds.\n",
      "Level 1 Available for us  --> 2022-07-28 03:49:17.550806+00:00 --> 22 seconds.\n"
     ]
    }
   ],
   "source": [
    "## Keep pinging AWS to check for a new product every check_ever_n_seconds\n",
    "## We are looking for Level 1 product\n",
    "\n",
    "while True:\n",
    "\n",
    "    df = helper.getProductList(start_time, end_time, product = radProduct, satellite = 16)\n",
    "\n",
    "    # Once all 16 bands are available\n",
    "    if len(df) >= 16:\n",
    "\n",
    "        # Note the time \n",
    "        dict_product_avaliable_time[radProduct] = datetime.datetime.now(datetime.timezone.utc)\n",
    "\n",
    "        print('')\n",
    "        print(\"Frame Start: \", df['start'].mean().strftime('%H:%M:%S.%f'), '+/-', df['start'].std().seconds + df['start'].std().microseconds/1E6)\n",
    "        print(\"Frame End  : \", df['end'].mean().strftime('%H:%M:%S.%f'),   '+/-', df['end'].std().seconds + df['end'].std().microseconds/1E6  )\n",
    "        print('')\n",
    "        \n",
    "        frameEndTime = df['end'].mean()\n",
    "        print(\"Level 1 Created           --> {} --> {} seconds.\".format(df.iloc[-1]['creation'], (df.iloc[-1]['creation'] - frameEndTime).seconds))\n",
    "        print(\"Level 1 Available for us  --> {} --> {} seconds.\".format(dict_product_avaliable_time[radProduct], (dict_product_avaliable_time[radProduct] - frameEndTime).seconds))\n",
    "        counter += 1\n",
    "\n",
    "        break\n",
    "    \n",
    "    \n",
    "    time.sleep(check_ever_n_seconds)\n"
   ]
  },
  {
   "cell_type": "markdown",
   "metadata": {},
   "source": [
    "### Check for relevant L2 \n",
    "--> If the product is not available, wait"
   ]
  },
  {
   "cell_type": "code",
   "execution_count": 9,
   "metadata": {},
   "outputs": [
    {
     "name": "stdout",
     "output_type": "stream",
     "text": [
      "noaa-goes16/ABI-L2-MCMIPC/2022/209/03/OR_ABI-L2-MCMIPC-M6_G16_s20222090346172_e20222090348545_c20222090349048.nc\n",
      "Level 2 ABI-L2-MCMIPC Created          --> 2022-07-28 03:49:04.800000+00:00 --> 9 seconds.\n",
      "Level 2 ABI-L2-MCMIPC Available for us --> 2022-07-28 03:49:19.715769+00:00 --> 24 seconds.\n",
      "-------------------------------\n",
      "\n",
      "noaa-goes16/ABI-L2-FDCC/2022/209/03/OR_ABI-L2-FDCC-M6_G16_s20222090346172_e20222090348545_c20222090349222.nc\n",
      "Level 2 ABI-L2-FDCC Created          --> 2022-07-28 03:49:22.200000+00:00 --> 27 seconds.\n",
      "Level 2 ABI-L2-FDCC Available for us --> 2022-07-28 03:49:40.203768+00:00 --> 45 seconds.\n",
      "-------------------------------\n",
      "\n",
      "noaa-goes16/ABI-L2-ACMC/2022/209/03/OR_ABI-L2-ACMC-M6_G16_s20222090346172_e20222090348545_c20222090350050.nc\n",
      "Level 2 ABI-L2-ACMC Created          --> 2022-07-28 03:50:05+00:00 --> 70 seconds.\n",
      "Level 2 ABI-L2-ACMC Available for us --> 2022-07-28 03:50:31.243244+00:00 --> 96 seconds.\n",
      "-------------------------------\n",
      "\n"
     ]
    }
   ],
   "source": [
    "while counter < len(dataProductCode):\n",
    "\n",
    "    ## Reset counter\n",
    "    counter = 0\n",
    "\n",
    "    for p in dataProductCode:\n",
    "        \n",
    "        \n",
    "        df = helper.getProductList(start_time, end_time, product = p, satellite = 16)\n",
    "\n",
    "        if len(df) > 0:\n",
    "\n",
    "            if p not in dict_product_avaliable_time.keys():\n",
    "                dict_product_avaliable_time[p] = datetime.datetime.now(datetime.timezone.utc)\n",
    "            \n",
    "                print(df.iloc[-1]['file'])\n",
    "                print(\"Level 2 {} Created          --> {} --> {} seconds.\".format(p, df.iloc[-1]['creation'], (df.iloc[-1]['creation'] - frameEndTime).seconds))\n",
    "                print(\"Level 2 {} Available for us --> {} --> {} seconds.\".format(p, dict_product_avaliable_time[p], (dict_product_avaliable_time[p] - frameEndTime).seconds))\n",
    "                print(\"-------------------------------\\n\")\n",
    "            counter += 1  \n",
    "    \n",
    "    time.sleep(check_ever_n_seconds)\n"
   ]
  },
  {
   "cell_type": "markdown",
   "metadata": {},
   "source": [
    "## Download Level 1 RAD CONUS data\n"
   ]
  },
  {
   "cell_type": "code",
   "execution_count": 10,
   "metadata": {},
   "outputs": [
    {
     "name": "stdout",
     "output_type": "stream",
     "text": [
      "1 unique image acquisitions found.\n",
      "Downloading from AWS:  noaa-goes16/ABI-L1b-RadC/2022/209/03/OR_ABI-L1b-RadC-M6C02_G16_s20222090346172_e20222090348545_c20222090348571.nc\n",
      "Generating GeoTIFF:  ./test_latency_download/GTif/RadC//20220727-2046_B02.tif\n",
      "Selected variable: Rad\n",
      "Downloading from AWS:  noaa-goes16/ABI-L1b-RadC/2022/209/03/OR_ABI-L1b-RadC-M6C07_G16_s20222090346172_e20222090348556_c20222090348598.nc\n",
      "Generating GeoTIFF:  ./test_latency_download/GTif/RadC//20220727-2046_B07.tif\n",
      "Selected variable: Rad\n",
      "Downloading from AWS:  noaa-goes16/ABI-L1b-RadC/2022/209/03/OR_ABI-L1b-RadC-M6C13_G16_s20222090346172_e20222090348556_c20222090349018.nc\n",
      "Generating GeoTIFF:  ./test_latency_download/GTif/RadC//20220727-2046_B13.tif\n",
      "Selected variable: Rad\n",
      "Downloading from AWS:  noaa-goes16/ABI-L1b-RadC/2022/209/03/OR_ABI-L1b-RadC-M6C14_G16_s20222090346172_e20222090348545_c20222090349022.nc\n",
      "Generating GeoTIFF:  ./test_latency_download/GTif/RadC//20220727-2046_B14.tif\n",
      "Selected variable: Rad\n",
      "Downloading from AWS:  noaa-goes16/ABI-L1b-RadC/2022/209/03/OR_ABI-L1b-RadC-M6C15_G16_s20222090346172_e20222090348550_c20222090349009.nc\n",
      "Generating GeoTIFF:  ./test_latency_download/GTif/RadC//20220727-2046_B15.tif\n",
      "Selected variable: Rad\n",
      "L1 RAD Download Done on: 2022-07-28 03:50:42.218960+00:00\n"
     ]
    }
   ],
   "source": [
    "df = helper.getProductList(start_time, end_time, product = 'ABI-L1b-RadC', satellite = 16)\n",
    "df = df[df[\"band\"].isin([2, 7, 13, 14, 15])]\n",
    "\n",
    "uniqueStartTimes = df['start'].unique()\n",
    "print(f'{len(uniqueStartTimes)} unique image acquisitions found.')\n",
    "\n",
    "helper.download(df = df, BASEDIR = DOWNLOAD_DIR, startTime = uniqueStartTimes[-1])\n",
    "\n",
    "print(\"L1 RAD Download Done on: {}\".format(datetime.datetime.now(datetime.timezone.utc)))"
   ]
  },
  {
   "cell_type": "markdown",
   "metadata": {},
   "source": [
    "## Download Level 2 Cloud and Moisture Imagery CONUS data"
   ]
  },
  {
   "cell_type": "code",
   "execution_count": 11,
   "metadata": {},
   "outputs": [
    {
     "name": "stdout",
     "output_type": "stream",
     "text": [
      "1 unique image acquisitions found.\n",
      "Downloading from AWS:  noaa-goes16/ABI-L2-MCMIPC/2022/209/03/OR_ABI-L2-MCMIPC-M6_G16_s20222090346172_e20222090348545_c20222090349048.nc\n",
      "Generating GeoTIFF:  ./test_latency_download/GTif/MCMIPC//20220727-2046.tif\n",
      "Selected variable: CMI_C02\n",
      "Selected variable: CMI_C07\n",
      "Selected variable: CMI_C13\n",
      "Selected variable: CMI_C14\n",
      "Selected variable: CMI_C15\n",
      "L2 MCMIPC Download Done on: 2022-07-28 03:50:48.589837+00:00\n"
     ]
    }
   ],
   "source": [
    "df = helper.getProductList(start_time, end_time, product = 'ABI-L2-MCMIPC', satellite = 16)\n",
    "\n",
    "uniqueStartTimes = df['start'].unique()\n",
    "print(f'{len(uniqueStartTimes)} unique image acquisitions found.')\n",
    "\n",
    "helper.download(df = df, BASEDIR = DOWNLOAD_DIR, startTime = uniqueStartTimes[-1])\n",
    "\n",
    "print(\"L2 MCMIPC Download Done on: {}\".format(datetime.datetime.now(datetime.timezone.utc)))"
   ]
  }
 ],
 "metadata": {
  "kernelspec": {
   "display_name": "Python 3.8.13 ('pano')",
   "language": "python",
   "name": "python3"
  },
  "language_info": {
   "codemirror_mode": {
    "name": "ipython",
    "version": 3
   },
   "file_extension": ".py",
   "mimetype": "text/x-python",
   "name": "python",
   "nbconvert_exporter": "python",
   "pygments_lexer": "ipython3",
   "version": "3.8.13"
  },
  "orig_nbformat": 4,
  "vscode": {
   "interpreter": {
    "hash": "0e8130f8e28119e6b479b93ba16bc4586f5d34c098ec767ab47b2033c9aefe0c"
   }
  }
 },
 "nbformat": 4,
 "nbformat_minor": 2
}
